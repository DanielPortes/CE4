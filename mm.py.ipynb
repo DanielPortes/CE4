{
 "cells": [
  {
   "cell_type": "code",
   "execution_count": 2,
   "id": "d0f142b0",
   "metadata": {
    "ExecuteTime": {
     "end_time": "2023-06-23T02:54:54.845564200Z",
     "start_time": "2023-06-23T02:54:54.826046Z"
    }
   },
   "outputs": [],
   "source": [
    "# !pip install tensorflow"
   ]
  },
  {
   "cell_type": "code",
   "execution_count": 3,
   "id": "a80c3898",
   "metadata": {
    "ExecuteTime": {
     "end_time": "2023-06-23T02:54:56.972441400Z",
     "start_time": "2023-06-23T02:54:54.831053400Z"
    }
   },
   "outputs": [],
   "source": [
    "import tensorflow as tf\n",
    "import os\n",
    "import pandas as pd\n",
    "import numpy as np"
   ]
  },
  {
   "cell_type": "code",
   "execution_count": 4,
   "id": "90efc06d",
   "metadata": {
    "ExecuteTime": {
     "end_time": "2023-06-23T02:54:56.975665300Z",
     "start_time": "2023-06-23T02:54:56.973438800Z"
    }
   },
   "outputs": [],
   "source": [
    "csv_path = 'inp/IBIRITE (ROLA MOCA)_MG.csv'"
   ]
  },
  {
   "cell_type": "code",
   "execution_count": 5,
   "id": "f4504e18",
   "metadata": {
    "ExecuteTime": {
     "end_time": "2023-06-23T02:54:57.025835600Z",
     "start_time": "2023-06-23T02:54:56.976666100Z"
    }
   },
   "outputs": [
    {
     "data": {
      "text/plain": "            DATE     Chuva  $Pressão_{Inst}$  $Pressão_{Max}$  \\\n0     2008-06-06  0.000000        886.500000       886.533333   \n1     2008-06-07  0.000000        887.037500       887.250000   \n2     2008-06-08  0.000000        886.783333       886.983333   \n3     2008-06-09  0.000000        886.341667       886.516667   \n4     2008-06-10  0.000000        885.012500       885.220833   \n...          ...       ...               ...              ...   \n4792  2021-12-27  0.000000        880.675000       880.900000   \n4793  2021-12-28  0.983333        881.758333       882.012500   \n4794  2021-12-29  0.150000        883.337500       883.616667   \n4795  2021-12-30  1.008333        881.166667       881.458333   \n4796  2021-12-31  1.025000        879.704167       879.970833   \n\n      $Pressão_{Min}$  $Temperatura_{Inst}$  $Orvalho_{Inst}$  \\\n0          886.300000             21.100000         10.500000   \n1          886.854167             19.458333         10.083333   \n2          886.583333             19.095833         10.504167   \n3          886.204167             18.700000         12.312500   \n4          884.820833             18.529167         11.920833   \n...               ...                   ...               ...   \n4792       880.425000             22.075000         14.425000   \n4793       881.445833             21.458333         15.970833   \n4794       883.075000             19.704167         16.345833   \n4795       880.958333             18.454167         16.762500   \n4796       879.454167             17.395833         16.145833   \n\n      $Temperatura_{Max}$  $Temperatura_{Min}$  $Orvalho_{Max}$  ...  \\\n0               22.333333            20.900000        10.766667  ...   \n1               20.016667            18.770833        10.637500  ...   \n2               19.704167            18.458333        11.054167  ...   \n3               19.304167            18.079167        12.662500  ...   \n4               19.291667            17.795833        12.566667  ...   \n...                   ...                  ...              ...  ...   \n4792            22.783333            21.395833        15.054167  ...   \n4793            22.525000            20.708333        16.695833  ...   \n4794            20.341667            19.187500        16.850000  ...   \n4795            18.820833            18.204167        17.050000  ...   \n4796            17.770833            17.129167        16.479167  ...   \n\n      $Umidade_{Min}$  $Umidade_{Inst}$  $Vento_{Dir}$  $Vento_{Raj}$  \\\n0           48.333333         51.666667      56.333333       6.233333   \n1           54.000000         56.458333      76.458333       6.604167   \n2           55.458333         58.750000      79.791667       8.570833   \n3           64.541667         67.583333     125.875000       7.779167   \n4           64.916667         67.833333     139.625000       4.750000   \n...               ...               ...            ...            ...   \n4792        60.291667         63.416667     174.083333       6.562500   \n4793        68.333333         72.875000     176.750000       7.200000   \n4794        78.791667         82.000000     131.375000       5.400000   \n4795        88.375000         89.875000      98.000000       5.812500   \n4796        90.833333         92.416667      37.333333      10.283333   \n\n      $Vento_{Vel}$   GLOBAL   Latitude  Longitude  Altitude         Qo  \n0          3.133333   1.9223 -20.031457 -44.011249   1198.82   2.195897  \n1          3.537500  19.2513 -20.031457 -44.011249   1198.82  24.544495  \n2          4.383333  17.9175 -20.031457 -44.011249   1198.82  24.486118  \n3          4.033333  16.2483 -20.031457 -44.011249   1198.82  24.430901  \n4          2.329167  13.3562 -20.031457 -44.011249   1198.82  24.378872  \n...             ...      ...        ...        ...       ...        ...  \n4792       1.462500  26.3813 -20.031457 -44.011249   1198.82  42.703244  \n4793       1.875000  23.1625 -20.031457 -44.011249   1198.82  42.712820  \n4794       0.254167  18.4593 -20.031457 -44.011249   1198.82  42.718808  \n4795       1.733333   5.3534 -20.031457 -44.011249   1198.82  42.721202  \n4796       4.566667   7.7033 -20.031457 -44.011249   1198.82  42.719993  \n\n[4797 rows x 22 columns]",
      "text/html": "<div>\n<style scoped>\n    .dataframe tbody tr th:only-of-type {\n        vertical-align: middle;\n    }\n\n    .dataframe tbody tr th {\n        vertical-align: top;\n    }\n\n    .dataframe thead th {\n        text-align: right;\n    }\n</style>\n<table border=\"1\" class=\"dataframe\">\n  <thead>\n    <tr style=\"text-align: right;\">\n      <th></th>\n      <th>DATE</th>\n      <th>Chuva</th>\n      <th>$Pressão_{Inst}$</th>\n      <th>$Pressão_{Max}$</th>\n      <th>$Pressão_{Min}$</th>\n      <th>$Temperatura_{Inst}$</th>\n      <th>$Orvalho_{Inst}$</th>\n      <th>$Temperatura_{Max}$</th>\n      <th>$Temperatura_{Min}$</th>\n      <th>$Orvalho_{Max}$</th>\n      <th>...</th>\n      <th>$Umidade_{Min}$</th>\n      <th>$Umidade_{Inst}$</th>\n      <th>$Vento_{Dir}$</th>\n      <th>$Vento_{Raj}$</th>\n      <th>$Vento_{Vel}$</th>\n      <th>GLOBAL</th>\n      <th>Latitude</th>\n      <th>Longitude</th>\n      <th>Altitude</th>\n      <th>Qo</th>\n    </tr>\n  </thead>\n  <tbody>\n    <tr>\n      <th>0</th>\n      <td>2008-06-06</td>\n      <td>0.000000</td>\n      <td>886.500000</td>\n      <td>886.533333</td>\n      <td>886.300000</td>\n      <td>21.100000</td>\n      <td>10.500000</td>\n      <td>22.333333</td>\n      <td>20.900000</td>\n      <td>10.766667</td>\n      <td>...</td>\n      <td>48.333333</td>\n      <td>51.666667</td>\n      <td>56.333333</td>\n      <td>6.233333</td>\n      <td>3.133333</td>\n      <td>1.9223</td>\n      <td>-20.031457</td>\n      <td>-44.011249</td>\n      <td>1198.82</td>\n      <td>2.195897</td>\n    </tr>\n    <tr>\n      <th>1</th>\n      <td>2008-06-07</td>\n      <td>0.000000</td>\n      <td>887.037500</td>\n      <td>887.250000</td>\n      <td>886.854167</td>\n      <td>19.458333</td>\n      <td>10.083333</td>\n      <td>20.016667</td>\n      <td>18.770833</td>\n      <td>10.637500</td>\n      <td>...</td>\n      <td>54.000000</td>\n      <td>56.458333</td>\n      <td>76.458333</td>\n      <td>6.604167</td>\n      <td>3.537500</td>\n      <td>19.2513</td>\n      <td>-20.031457</td>\n      <td>-44.011249</td>\n      <td>1198.82</td>\n      <td>24.544495</td>\n    </tr>\n    <tr>\n      <th>2</th>\n      <td>2008-06-08</td>\n      <td>0.000000</td>\n      <td>886.783333</td>\n      <td>886.983333</td>\n      <td>886.583333</td>\n      <td>19.095833</td>\n      <td>10.504167</td>\n      <td>19.704167</td>\n      <td>18.458333</td>\n      <td>11.054167</td>\n      <td>...</td>\n      <td>55.458333</td>\n      <td>58.750000</td>\n      <td>79.791667</td>\n      <td>8.570833</td>\n      <td>4.383333</td>\n      <td>17.9175</td>\n      <td>-20.031457</td>\n      <td>-44.011249</td>\n      <td>1198.82</td>\n      <td>24.486118</td>\n    </tr>\n    <tr>\n      <th>3</th>\n      <td>2008-06-09</td>\n      <td>0.000000</td>\n      <td>886.341667</td>\n      <td>886.516667</td>\n      <td>886.204167</td>\n      <td>18.700000</td>\n      <td>12.312500</td>\n      <td>19.304167</td>\n      <td>18.079167</td>\n      <td>12.662500</td>\n      <td>...</td>\n      <td>64.541667</td>\n      <td>67.583333</td>\n      <td>125.875000</td>\n      <td>7.779167</td>\n      <td>4.033333</td>\n      <td>16.2483</td>\n      <td>-20.031457</td>\n      <td>-44.011249</td>\n      <td>1198.82</td>\n      <td>24.430901</td>\n    </tr>\n    <tr>\n      <th>4</th>\n      <td>2008-06-10</td>\n      <td>0.000000</td>\n      <td>885.012500</td>\n      <td>885.220833</td>\n      <td>884.820833</td>\n      <td>18.529167</td>\n      <td>11.920833</td>\n      <td>19.291667</td>\n      <td>17.795833</td>\n      <td>12.566667</td>\n      <td>...</td>\n      <td>64.916667</td>\n      <td>67.833333</td>\n      <td>139.625000</td>\n      <td>4.750000</td>\n      <td>2.329167</td>\n      <td>13.3562</td>\n      <td>-20.031457</td>\n      <td>-44.011249</td>\n      <td>1198.82</td>\n      <td>24.378872</td>\n    </tr>\n    <tr>\n      <th>...</th>\n      <td>...</td>\n      <td>...</td>\n      <td>...</td>\n      <td>...</td>\n      <td>...</td>\n      <td>...</td>\n      <td>...</td>\n      <td>...</td>\n      <td>...</td>\n      <td>...</td>\n      <td>...</td>\n      <td>...</td>\n      <td>...</td>\n      <td>...</td>\n      <td>...</td>\n      <td>...</td>\n      <td>...</td>\n      <td>...</td>\n      <td>...</td>\n      <td>...</td>\n      <td>...</td>\n    </tr>\n    <tr>\n      <th>4792</th>\n      <td>2021-12-27</td>\n      <td>0.000000</td>\n      <td>880.675000</td>\n      <td>880.900000</td>\n      <td>880.425000</td>\n      <td>22.075000</td>\n      <td>14.425000</td>\n      <td>22.783333</td>\n      <td>21.395833</td>\n      <td>15.054167</td>\n      <td>...</td>\n      <td>60.291667</td>\n      <td>63.416667</td>\n      <td>174.083333</td>\n      <td>6.562500</td>\n      <td>1.462500</td>\n      <td>26.3813</td>\n      <td>-20.031457</td>\n      <td>-44.011249</td>\n      <td>1198.82</td>\n      <td>42.703244</td>\n    </tr>\n    <tr>\n      <th>4793</th>\n      <td>2021-12-28</td>\n      <td>0.983333</td>\n      <td>881.758333</td>\n      <td>882.012500</td>\n      <td>881.445833</td>\n      <td>21.458333</td>\n      <td>15.970833</td>\n      <td>22.525000</td>\n      <td>20.708333</td>\n      <td>16.695833</td>\n      <td>...</td>\n      <td>68.333333</td>\n      <td>72.875000</td>\n      <td>176.750000</td>\n      <td>7.200000</td>\n      <td>1.875000</td>\n      <td>23.1625</td>\n      <td>-20.031457</td>\n      <td>-44.011249</td>\n      <td>1198.82</td>\n      <td>42.712820</td>\n    </tr>\n    <tr>\n      <th>4794</th>\n      <td>2021-12-29</td>\n      <td>0.150000</td>\n      <td>883.337500</td>\n      <td>883.616667</td>\n      <td>883.075000</td>\n      <td>19.704167</td>\n      <td>16.345833</td>\n      <td>20.341667</td>\n      <td>19.187500</td>\n      <td>16.850000</td>\n      <td>...</td>\n      <td>78.791667</td>\n      <td>82.000000</td>\n      <td>131.375000</td>\n      <td>5.400000</td>\n      <td>0.254167</td>\n      <td>18.4593</td>\n      <td>-20.031457</td>\n      <td>-44.011249</td>\n      <td>1198.82</td>\n      <td>42.718808</td>\n    </tr>\n    <tr>\n      <th>4795</th>\n      <td>2021-12-30</td>\n      <td>1.008333</td>\n      <td>881.166667</td>\n      <td>881.458333</td>\n      <td>880.958333</td>\n      <td>18.454167</td>\n      <td>16.762500</td>\n      <td>18.820833</td>\n      <td>18.204167</td>\n      <td>17.050000</td>\n      <td>...</td>\n      <td>88.375000</td>\n      <td>89.875000</td>\n      <td>98.000000</td>\n      <td>5.812500</td>\n      <td>1.733333</td>\n      <td>5.3534</td>\n      <td>-20.031457</td>\n      <td>-44.011249</td>\n      <td>1198.82</td>\n      <td>42.721202</td>\n    </tr>\n    <tr>\n      <th>4796</th>\n      <td>2021-12-31</td>\n      <td>1.025000</td>\n      <td>879.704167</td>\n      <td>879.970833</td>\n      <td>879.454167</td>\n      <td>17.395833</td>\n      <td>16.145833</td>\n      <td>17.770833</td>\n      <td>17.129167</td>\n      <td>16.479167</td>\n      <td>...</td>\n      <td>90.833333</td>\n      <td>92.416667</td>\n      <td>37.333333</td>\n      <td>10.283333</td>\n      <td>4.566667</td>\n      <td>7.7033</td>\n      <td>-20.031457</td>\n      <td>-44.011249</td>\n      <td>1198.82</td>\n      <td>42.719993</td>\n    </tr>\n  </tbody>\n</table>\n<p>4797 rows × 22 columns</p>\n</div>"
     },
     "execution_count": 5,
     "metadata": {},
     "output_type": "execute_result"
    }
   ],
   "source": [
    "data = pd.read_csv(csv_path, sep=';')\n",
    "data"
   ]
  },
  {
   "cell_type": "code",
   "execution_count": 6,
   "id": "9e56619f",
   "metadata": {
    "ExecuteTime": {
     "end_time": "2023-06-23T02:54:57.026836600Z",
     "start_time": "2023-06-23T02:54:57.013571900Z"
    }
   },
   "outputs": [],
   "source": [
    "def remove_timezone(dt):\n",
    "    # HERE `dt` is a python datetime\n",
    "    # object that used .replace() method\n",
    "    return dt.replace(tzinfo=None)"
   ]
  },
  {
   "cell_type": "code",
   "execution_count": 7,
   "id": "8ec3ca6a",
   "metadata": {
    "ExecuteTime": {
     "end_time": "2023-06-23T02:54:57.026836600Z",
     "start_time": "2023-06-23T02:54:57.016084500Z"
    }
   },
   "outputs": [],
   "source": [
    "# A PARTIR DE 2019 O FORMATO DE DATA DAS TABELAS FOI MODIFICADO, ENTÃO TIVE QUE O TIMEZONE SOMENTE DESTAS ENTRADAS\n",
    "# data['DATE'].loc[data['DATE'].apply(lambda t: t.tzinfo is not None)]=data['DATE'].loc[data['DATE'].apply(lambda t: t.tzinfo is not None)].apply(remove_timezone)\n",
    "\n",
    "\n"
   ]
  },
  {
   "cell_type": "code",
   "execution_count": 8,
   "id": "4f09c4f0",
   "metadata": {
    "ExecuteTime": {
     "end_time": "2023-06-23T02:54:57.042694800Z",
     "start_time": "2023-06-23T02:54:57.025835600Z"
    }
   },
   "outputs": [
    {
     "data": {
      "text/plain": "            DATE     Chuva  $Pressão_{Inst}$  $Pressão_{Max}$  \\\n0     2008-06-06  0.000000        886.500000       886.533333   \n1     2008-06-07  0.000000        887.037500       887.250000   \n2     2008-06-08  0.000000        886.783333       886.983333   \n3     2008-06-09  0.000000        886.341667       886.516667   \n4     2008-06-10  0.000000        885.012500       885.220833   \n...          ...       ...               ...              ...   \n4792  2021-12-27  0.000000        880.675000       880.900000   \n4793  2021-12-28  0.983333        881.758333       882.012500   \n4794  2021-12-29  0.150000        883.337500       883.616667   \n4795  2021-12-30  1.008333        881.166667       881.458333   \n4796  2021-12-31  1.025000        879.704167       879.970833   \n\n      $Pressão_{Min}$  $Temperatura_{Inst}$  $Orvalho_{Inst}$  \\\n0          886.300000             21.100000         10.500000   \n1          886.854167             19.458333         10.083333   \n2          886.583333             19.095833         10.504167   \n3          886.204167             18.700000         12.312500   \n4          884.820833             18.529167         11.920833   \n...               ...                   ...               ...   \n4792       880.425000             22.075000         14.425000   \n4793       881.445833             21.458333         15.970833   \n4794       883.075000             19.704167         16.345833   \n4795       880.958333             18.454167         16.762500   \n4796       879.454167             17.395833         16.145833   \n\n      $Temperatura_{Max}$  $Temperatura_{Min}$  $Orvalho_{Max}$  ...  \\\n0               22.333333            20.900000        10.766667  ...   \n1               20.016667            18.770833        10.637500  ...   \n2               19.704167            18.458333        11.054167  ...   \n3               19.304167            18.079167        12.662500  ...   \n4               19.291667            17.795833        12.566667  ...   \n...                   ...                  ...              ...  ...   \n4792            22.783333            21.395833        15.054167  ...   \n4793            22.525000            20.708333        16.695833  ...   \n4794            20.341667            19.187500        16.850000  ...   \n4795            18.820833            18.204167        17.050000  ...   \n4796            17.770833            17.129167        16.479167  ...   \n\n      $Umidade_{Min}$  $Umidade_{Inst}$  $Vento_{Dir}$  $Vento_{Raj}$  \\\n0           48.333333         51.666667      56.333333       6.233333   \n1           54.000000         56.458333      76.458333       6.604167   \n2           55.458333         58.750000      79.791667       8.570833   \n3           64.541667         67.583333     125.875000       7.779167   \n4           64.916667         67.833333     139.625000       4.750000   \n...               ...               ...            ...            ...   \n4792        60.291667         63.416667     174.083333       6.562500   \n4793        68.333333         72.875000     176.750000       7.200000   \n4794        78.791667         82.000000     131.375000       5.400000   \n4795        88.375000         89.875000      98.000000       5.812500   \n4796        90.833333         92.416667      37.333333      10.283333   \n\n      $Vento_{Vel}$   GLOBAL   Latitude  Longitude  Altitude         Qo  \n0          3.133333   1.9223 -20.031457 -44.011249   1198.82   2.195897  \n1          3.537500  19.2513 -20.031457 -44.011249   1198.82  24.544495  \n2          4.383333  17.9175 -20.031457 -44.011249   1198.82  24.486118  \n3          4.033333  16.2483 -20.031457 -44.011249   1198.82  24.430901  \n4          2.329167  13.3562 -20.031457 -44.011249   1198.82  24.378872  \n...             ...      ...        ...        ...       ...        ...  \n4792       1.462500  26.3813 -20.031457 -44.011249   1198.82  42.703244  \n4793       1.875000  23.1625 -20.031457 -44.011249   1198.82  42.712820  \n4794       0.254167  18.4593 -20.031457 -44.011249   1198.82  42.718808  \n4795       1.733333   5.3534 -20.031457 -44.011249   1198.82  42.721202  \n4796       4.566667   7.7033 -20.031457 -44.011249   1198.82  42.719993  \n\n[4797 rows x 22 columns]",
      "text/html": "<div>\n<style scoped>\n    .dataframe tbody tr th:only-of-type {\n        vertical-align: middle;\n    }\n\n    .dataframe tbody tr th {\n        vertical-align: top;\n    }\n\n    .dataframe thead th {\n        text-align: right;\n    }\n</style>\n<table border=\"1\" class=\"dataframe\">\n  <thead>\n    <tr style=\"text-align: right;\">\n      <th></th>\n      <th>DATE</th>\n      <th>Chuva</th>\n      <th>$Pressão_{Inst}$</th>\n      <th>$Pressão_{Max}$</th>\n      <th>$Pressão_{Min}$</th>\n      <th>$Temperatura_{Inst}$</th>\n      <th>$Orvalho_{Inst}$</th>\n      <th>$Temperatura_{Max}$</th>\n      <th>$Temperatura_{Min}$</th>\n      <th>$Orvalho_{Max}$</th>\n      <th>...</th>\n      <th>$Umidade_{Min}$</th>\n      <th>$Umidade_{Inst}$</th>\n      <th>$Vento_{Dir}$</th>\n      <th>$Vento_{Raj}$</th>\n      <th>$Vento_{Vel}$</th>\n      <th>GLOBAL</th>\n      <th>Latitude</th>\n      <th>Longitude</th>\n      <th>Altitude</th>\n      <th>Qo</th>\n    </tr>\n  </thead>\n  <tbody>\n    <tr>\n      <th>0</th>\n      <td>2008-06-06</td>\n      <td>0.000000</td>\n      <td>886.500000</td>\n      <td>886.533333</td>\n      <td>886.300000</td>\n      <td>21.100000</td>\n      <td>10.500000</td>\n      <td>22.333333</td>\n      <td>20.900000</td>\n      <td>10.766667</td>\n      <td>...</td>\n      <td>48.333333</td>\n      <td>51.666667</td>\n      <td>56.333333</td>\n      <td>6.233333</td>\n      <td>3.133333</td>\n      <td>1.9223</td>\n      <td>-20.031457</td>\n      <td>-44.011249</td>\n      <td>1198.82</td>\n      <td>2.195897</td>\n    </tr>\n    <tr>\n      <th>1</th>\n      <td>2008-06-07</td>\n      <td>0.000000</td>\n      <td>887.037500</td>\n      <td>887.250000</td>\n      <td>886.854167</td>\n      <td>19.458333</td>\n      <td>10.083333</td>\n      <td>20.016667</td>\n      <td>18.770833</td>\n      <td>10.637500</td>\n      <td>...</td>\n      <td>54.000000</td>\n      <td>56.458333</td>\n      <td>76.458333</td>\n      <td>6.604167</td>\n      <td>3.537500</td>\n      <td>19.2513</td>\n      <td>-20.031457</td>\n      <td>-44.011249</td>\n      <td>1198.82</td>\n      <td>24.544495</td>\n    </tr>\n    <tr>\n      <th>2</th>\n      <td>2008-06-08</td>\n      <td>0.000000</td>\n      <td>886.783333</td>\n      <td>886.983333</td>\n      <td>886.583333</td>\n      <td>19.095833</td>\n      <td>10.504167</td>\n      <td>19.704167</td>\n      <td>18.458333</td>\n      <td>11.054167</td>\n      <td>...</td>\n      <td>55.458333</td>\n      <td>58.750000</td>\n      <td>79.791667</td>\n      <td>8.570833</td>\n      <td>4.383333</td>\n      <td>17.9175</td>\n      <td>-20.031457</td>\n      <td>-44.011249</td>\n      <td>1198.82</td>\n      <td>24.486118</td>\n    </tr>\n    <tr>\n      <th>3</th>\n      <td>2008-06-09</td>\n      <td>0.000000</td>\n      <td>886.341667</td>\n      <td>886.516667</td>\n      <td>886.204167</td>\n      <td>18.700000</td>\n      <td>12.312500</td>\n      <td>19.304167</td>\n      <td>18.079167</td>\n      <td>12.662500</td>\n      <td>...</td>\n      <td>64.541667</td>\n      <td>67.583333</td>\n      <td>125.875000</td>\n      <td>7.779167</td>\n      <td>4.033333</td>\n      <td>16.2483</td>\n      <td>-20.031457</td>\n      <td>-44.011249</td>\n      <td>1198.82</td>\n      <td>24.430901</td>\n    </tr>\n    <tr>\n      <th>4</th>\n      <td>2008-06-10</td>\n      <td>0.000000</td>\n      <td>885.012500</td>\n      <td>885.220833</td>\n      <td>884.820833</td>\n      <td>18.529167</td>\n      <td>11.920833</td>\n      <td>19.291667</td>\n      <td>17.795833</td>\n      <td>12.566667</td>\n      <td>...</td>\n      <td>64.916667</td>\n      <td>67.833333</td>\n      <td>139.625000</td>\n      <td>4.750000</td>\n      <td>2.329167</td>\n      <td>13.3562</td>\n      <td>-20.031457</td>\n      <td>-44.011249</td>\n      <td>1198.82</td>\n      <td>24.378872</td>\n    </tr>\n    <tr>\n      <th>...</th>\n      <td>...</td>\n      <td>...</td>\n      <td>...</td>\n      <td>...</td>\n      <td>...</td>\n      <td>...</td>\n      <td>...</td>\n      <td>...</td>\n      <td>...</td>\n      <td>...</td>\n      <td>...</td>\n      <td>...</td>\n      <td>...</td>\n      <td>...</td>\n      <td>...</td>\n      <td>...</td>\n      <td>...</td>\n      <td>...</td>\n      <td>...</td>\n      <td>...</td>\n      <td>...</td>\n    </tr>\n    <tr>\n      <th>4792</th>\n      <td>2021-12-27</td>\n      <td>0.000000</td>\n      <td>880.675000</td>\n      <td>880.900000</td>\n      <td>880.425000</td>\n      <td>22.075000</td>\n      <td>14.425000</td>\n      <td>22.783333</td>\n      <td>21.395833</td>\n      <td>15.054167</td>\n      <td>...</td>\n      <td>60.291667</td>\n      <td>63.416667</td>\n      <td>174.083333</td>\n      <td>6.562500</td>\n      <td>1.462500</td>\n      <td>26.3813</td>\n      <td>-20.031457</td>\n      <td>-44.011249</td>\n      <td>1198.82</td>\n      <td>42.703244</td>\n    </tr>\n    <tr>\n      <th>4793</th>\n      <td>2021-12-28</td>\n      <td>0.983333</td>\n      <td>881.758333</td>\n      <td>882.012500</td>\n      <td>881.445833</td>\n      <td>21.458333</td>\n      <td>15.970833</td>\n      <td>22.525000</td>\n      <td>20.708333</td>\n      <td>16.695833</td>\n      <td>...</td>\n      <td>68.333333</td>\n      <td>72.875000</td>\n      <td>176.750000</td>\n      <td>7.200000</td>\n      <td>1.875000</td>\n      <td>23.1625</td>\n      <td>-20.031457</td>\n      <td>-44.011249</td>\n      <td>1198.82</td>\n      <td>42.712820</td>\n    </tr>\n    <tr>\n      <th>4794</th>\n      <td>2021-12-29</td>\n      <td>0.150000</td>\n      <td>883.337500</td>\n      <td>883.616667</td>\n      <td>883.075000</td>\n      <td>19.704167</td>\n      <td>16.345833</td>\n      <td>20.341667</td>\n      <td>19.187500</td>\n      <td>16.850000</td>\n      <td>...</td>\n      <td>78.791667</td>\n      <td>82.000000</td>\n      <td>131.375000</td>\n      <td>5.400000</td>\n      <td>0.254167</td>\n      <td>18.4593</td>\n      <td>-20.031457</td>\n      <td>-44.011249</td>\n      <td>1198.82</td>\n      <td>42.718808</td>\n    </tr>\n    <tr>\n      <th>4795</th>\n      <td>2021-12-30</td>\n      <td>1.008333</td>\n      <td>881.166667</td>\n      <td>881.458333</td>\n      <td>880.958333</td>\n      <td>18.454167</td>\n      <td>16.762500</td>\n      <td>18.820833</td>\n      <td>18.204167</td>\n      <td>17.050000</td>\n      <td>...</td>\n      <td>88.375000</td>\n      <td>89.875000</td>\n      <td>98.000000</td>\n      <td>5.812500</td>\n      <td>1.733333</td>\n      <td>5.3534</td>\n      <td>-20.031457</td>\n      <td>-44.011249</td>\n      <td>1198.82</td>\n      <td>42.721202</td>\n    </tr>\n    <tr>\n      <th>4796</th>\n      <td>2021-12-31</td>\n      <td>1.025000</td>\n      <td>879.704167</td>\n      <td>879.970833</td>\n      <td>879.454167</td>\n      <td>17.395833</td>\n      <td>16.145833</td>\n      <td>17.770833</td>\n      <td>17.129167</td>\n      <td>16.479167</td>\n      <td>...</td>\n      <td>90.833333</td>\n      <td>92.416667</td>\n      <td>37.333333</td>\n      <td>10.283333</td>\n      <td>4.566667</td>\n      <td>7.7033</td>\n      <td>-20.031457</td>\n      <td>-44.011249</td>\n      <td>1198.82</td>\n      <td>42.719993</td>\n    </tr>\n  </tbody>\n</table>\n<p>4797 rows × 22 columns</p>\n</div>"
     },
     "execution_count": 8,
     "metadata": {},
     "output_type": "execute_result"
    }
   ],
   "source": [
    "data.rename(columns={\"PRECIPITAÇÃO TOTAL, HORÁRIO (mm)\": \"Chuva\", \n",
    "                     \"PRESSAO ATMOSFERICA AO NIVEL DA ESTACAO, HORARIA (mB)\": \"$Pressão_{Inst}$\",\n",
    "                     \"PRESSÃO ATMOSFERICA MAX.NA HORA ANT. (AUT) (mB)\":\"$Pressão_{Max}$\",\n",
    "                     \"PRESSÃO ATMOSFERICA MIN. NA HORA ANT. (AUT) (mB)\":\"$Pressão_{Min}$\",\n",
    "                     \"RADIACAO GLOBAL (KJ/m²)\":\"H\",\n",
    "                     \"TEMPERATURA DO AR - BULBO SECO, HORARIA (°C)\":\"$Temperatura_{Inst}$\",\n",
    "                     \"TEMPERATURA DO PONTO DE ORVALHO (°C)\":\"$Orvalho_{Inst}$\",\n",
    "                     \"TEMPERATURA MÁXIMA NA HORA ANT. (AUT) (°C)\":\"$Temperatura_{Max}$\",\n",
    "                     \"TEMPERATURA MÍNIMA NA HORA ANT. (AUT) (°C)\":\"$Temperatura_{Min}$\",\n",
    "                     \"TEMPERATURA ORVALHO MAX. NA HORA ANT. (AUT) (°C)\":\"$Orvalho_{Max}$\",\n",
    "                     \"TEMPERATURA ORVALHO MIN. NA HORA ANT. (AUT) (°C)\":\"$Orvalho_{Min}$\",\n",
    "                     \"UMIDADE REL. MAX. NA HORA ANT. (AUT) (%)\":\"$Umidade_{Max}$\",\n",
    "                     \"UMIDADE REL. MIN. NA HORA ANT. (AUT) (%)\":\"$Umidade_{Min}$\",\n",
    "                     \"UMIDADE RELATIVA DO AR, HORARIA (%)\":\"$Umidade_{Inst}$\",\n",
    "                     \"VENTO, DIREÇÃO HORARIA (gr) (° (gr))\":\"$Vento_{Dir}$\",\n",
    "                     \"VENTO, RAJADA MAXIMA (m/s)\":\"$Vento_{Raj}$\",\n",
    "                     \"VENTO, VELOCIDADE HORARIA (m/s)\":\"$Vento_{Vel}$\",\n",
    "                    \"RADIACAO GLOBAL (Kj/m²)\":\"GLOBAL\"},inplace=True)\n",
    "data"
   ]
  },
  {
   "cell_type": "code",
   "execution_count": 9,
   "id": "6881ff0c",
   "metadata": {
    "ExecuteTime": {
     "end_time": "2023-06-23T02:54:57.045208400Z",
     "start_time": "2023-06-23T02:54:57.041618100Z"
    }
   },
   "outputs": [],
   "source": [
    "data.set_index('DATE',inplace=True)"
   ]
  },
  {
   "cell_type": "code",
   "execution_count": 10,
   "id": "aaf2e22a",
   "metadata": {
    "ExecuteTime": {
     "end_time": "2023-06-23T02:54:57.071043700Z",
     "start_time": "2023-06-23T02:54:57.045208400Z"
    }
   },
   "outputs": [],
   "source": [
    "data.dropna(axis=0, how='all', subset=None, inplace=True)\n",
    "data.dropna(axis=1, how='all', subset=None, inplace=True)"
   ]
  },
  {
   "cell_type": "code",
   "execution_count": 11,
   "id": "259dc97c",
   "metadata": {
    "ExecuteTime": {
     "end_time": "2023-06-23T02:54:57.071043700Z",
     "start_time": "2023-06-23T02:54:57.054140Z"
    }
   },
   "outputs": [],
   "source": [
    "#DEPENDENDO DO ANO E DA ESTAÇÃO OS VALORES DE RADIAÇÃO ESTÃO EM COLUNAS DIFERENTES\n",
    "if 'GLOBAL' not in data.columns:\n",
    "    data.rename(columns={\"H\": \"GLOBAL\"}, inplace=True)\n",
    "if 'H' in data.columns:\n",
    "    data['GLOBAL'].fillna(data['H'], inplace=True)\n",
    "    data.drop(['H'], axis=1, inplace=True)"
   ]
  },
  {
   "cell_type": "code",
   "execution_count": 12,
   "id": "6ecfe40f",
   "metadata": {
    "ExecuteTime": {
     "end_time": "2023-06-23T02:54:57.098734200Z",
     "start_time": "2023-06-23T02:54:57.058768500Z"
    }
   },
   "outputs": [],
   "source": [
    "    #GARANTINDO QUE TODOS OS DADOS ESTÃO SENDO TRATADOS COMO FLOAT\n",
    "    data = data.replace(',','.', regex=True)\n",
    "    data['Chuva']=data['Chuva'].astype(float)\n",
    "    data['$Pressão_{Inst}$']=data['$Pressão_{Inst}$'].astype(float)\n",
    "    data['$Pressão_{Max}$']=data['$Pressão_{Max}$'].astype(float)\n",
    "    data['$Pressão_{Min}$']=data['$Pressão_{Min}$'].astype(float)\n",
    "    data['$Temperatura_{Inst}$']=data['$Temperatura_{Inst}$'].astype(float)\n",
    "    data['$Temperatura_{Max}$']=data['$Temperatura_{Max}$'].astype(float)\n",
    "    data['$Temperatura_{Min}$']=data['$Temperatura_{Min}$'].astype(float)\n",
    "    data['$Orvalho_{Inst}$']=data['$Orvalho_{Inst}$'].astype(float)\n",
    "    data['$Orvalho_{Min}$']=data['$Orvalho_{Min}$'].astype(float)\n",
    "    data['$Orvalho_{Max}$']=data['$Orvalho_{Max}$'].astype(float)\n",
    "    data['$Vento_{Raj}$']=data['$Vento_{Raj}$'].astype(float)\n",
    "    data['$Vento_{Vel}$']=data['$Vento_{Vel}$'].astype(float)\n",
    "    data['GLOBAL']=data['GLOBAL'].astype(float)"
   ]
  },
  {
   "cell_type": "code",
   "execution_count": 13,
   "id": "c3c1cfea",
   "metadata": {
    "ExecuteTime": {
     "end_time": "2023-06-23T02:54:57.098734200Z",
     "start_time": "2023-06-23T02:54:57.067529Z"
    }
   },
   "outputs": [],
   "source": [
    "# data = data[['GLOBAL', 'Chuva', '$Pressão_{Inst}$']]\n"
   ]
  },
  {
   "cell_type": "code",
   "execution_count": 14,
   "id": "1af8aa74",
   "metadata": {
    "ExecuteTime": {
     "end_time": "2023-06-23T02:54:57.144888700Z",
     "start_time": "2023-06-23T02:54:57.070044Z"
    }
   },
   "outputs": [],
   "source": [
    "#DELETANDO ALGUMA LEITURA ONDE O MÁXIMO É MENOR QUE O MÍNIMO\n",
    "delIndex=data.loc[(data['$Pressão_{Max}$']<data['$Pressão_{Min}$'])|(data['$Temperatura_{Max}$']<data['$Temperatura_{Min}$'])|(data['$Orvalho_{Max}$']<data['$Orvalho_{Min}$'])|(data['$Umidade_{Max}$']<data['$Umidade_{Min}$'])].index\n",
    "if len(delIndex)>0:\n",
    "    data.drop(delIndex,axis=0, inplace=True)"
   ]
  },
  {
   "cell_type": "code",
   "execution_count": 15,
   "id": "80b971f7",
   "metadata": {
    "ExecuteTime": {
     "end_time": "2023-06-23T02:54:57.170705900Z",
     "start_time": "2023-06-23T02:54:57.079195400Z"
    }
   },
   "outputs": [],
   "source": [
    "#DELETANDO ALGUMA LEITURA ONDE O MÁXIMO É MENOR QUE O INSTANTÂNEO\n",
    "delIndex=data.loc[(data['$Pressão_{Max}$']<data['$Pressão_{Inst}$'])|(data['$Temperatura_{Max}$']<data['$Temperatura_{Inst}$'])|(data['$Orvalho_{Max}$']<data['$Orvalho_{Inst}$'])|(data['$Umidade_{Max}$']<data['$Umidade_{Inst}$'])].index\n",
    "if len(delIndex)>0:\n",
    "    data.drop(delIndex,axis=0, inplace=True)"
   ]
  },
  {
   "cell_type": "code",
   "execution_count": 16,
   "id": "2e404a7a",
   "metadata": {
    "ExecuteTime": {
     "end_time": "2023-06-23T02:54:57.192611700Z",
     "start_time": "2023-06-23T02:54:57.083803900Z"
    }
   },
   "outputs": [],
   "source": [
    "#DELETANDO ALGUMA LEITURA ONDE O INSTANTÂNEO É MENOR QUE O MÍNIMO\n",
    "delIndex=data.loc[(data['$Pressão_{Inst}$']<data['$Pressão_{Min}$'])|(data['$Temperatura_{Inst}$']<data['$Temperatura_{Min}$'])|(data['$Orvalho_{Inst}$']<data['$Orvalho_{Min}$'])|(data['$Umidade_{Inst}$']<data['$Umidade_{Min}$'])].index\n",
    "if len(delIndex)>0:\n",
    "    data.drop(delIndex,axis=0, inplace=True)"
   ]
  },
  {
   "cell_type": "code",
   "execution_count": 17,
   "id": "66ae26a5",
   "metadata": {
    "ExecuteTime": {
     "end_time": "2023-06-23T02:54:57.192611700Z",
     "start_time": "2023-06-23T02:54:57.090718400Z"
    }
   },
   "outputs": [],
   "source": [
    "# #MODIFICANDO A UNIDADE DA RADIAÇÃO DE (Kj/m²) PARA (Mj/m²)\n",
    "data['GLOBAL'] = data['GLOBAL'].mul(0.001)"
   ]
  },
  {
   "cell_type": "code",
   "execution_count": 18,
   "id": "05cced2d",
   "metadata": {
    "ExecuteTime": {
     "end_time": "2023-06-23T02:54:57.221612Z",
     "start_time": "2023-06-23T02:54:57.098734200Z"
    }
   },
   "outputs": [],
   "source": [
    "#DELETANDO ALGUMA LINHA QUE AINDA TENHA NAN\n",
    "data.dropna(inplace=True)"
   ]
  },
  {
   "cell_type": "code",
   "execution_count": 19,
   "id": "4f76cd46",
   "metadata": {
    "ExecuteTime": {
     "end_time": "2023-06-23T02:54:57.226611300Z",
     "start_time": "2023-06-23T02:54:57.103739500Z"
    }
   },
   "outputs": [],
   "source": [
    "# EXTRAINDO OS NOMES DAS COLUNAS \n",
    "target_names=['GLOBAL']\n",
    "variable_names=data.columns.values\n",
    "variable_names = np.delete(variable_names, np.where(variable_names==target_names))"
   ]
  },
  {
   "cell_type": "code",
   "execution_count": 20,
   "id": "04567819",
   "metadata": {
    "ExecuteTime": {
     "end_time": "2023-06-23T02:54:57.226611300Z",
     "start_time": "2023-06-23T02:54:57.107830800Z"
    }
   },
   "outputs": [
    {
     "name": "stdout",
     "output_type": "stream",
     "text": [
      "Index(['2008-06-06', '2008-06-07', '2008-06-08', '2008-06-09', '2008-06-10',\n",
      "       '2008-06-11', '2008-06-12', '2008-06-13', '2008-06-14', '2008-06-15',\n",
      "       ...\n",
      "       '2021-12-22', '2021-12-23', '2021-12-24', '2021-12-25', '2021-12-26',\n",
      "       '2021-12-27', '2021-12-28', '2021-12-29', '2021-12-30', '2021-12-31'],\n",
      "      dtype='object', name='DATE', length=4797)\n"
     ]
    }
   ],
   "source": [
    "date_range = data.index  \n",
    "\n",
    "var_to_plot=data.columns\n",
    "df=data[var_to_plot]\n",
    "\n",
    "n=int(df.shape[0]*0.7)\n",
    "df.index=range(df.shape[0])\n",
    "id0=df.index <= n\n",
    "id1=df.index >  n \n",
    "print(data.index)"
   ]
  },
  {
   "cell_type": "code",
   "execution_count": 21,
   "id": "9c4b8df3",
   "metadata": {
    "ExecuteTime": {
     "end_time": "2023-06-23T02:54:57.249612600Z",
     "start_time": "2023-06-23T02:54:57.113757100Z"
    }
   },
   "outputs": [],
   "source": [
    "X=data[variable_names]\n",
    "y=data[target_names]"
   ]
  },
  {
   "cell_type": "code",
   "execution_count": 22,
   "id": "59fe598d",
   "metadata": {
    "ExecuteTime": {
     "end_time": "2023-06-23T02:54:57.249612600Z",
     "start_time": "2023-06-23T02:54:57.122319200Z"
    }
   },
   "outputs": [],
   "source": [
    "df=X.copy()"
   ]
  },
  {
   "cell_type": "code",
   "execution_count": 23,
   "id": "4c01c959",
   "metadata": {
    "ExecuteTime": {
     "end_time": "2023-06-23T02:54:57.249612600Z",
     "start_time": "2023-06-23T02:54:57.129980200Z"
    }
   },
   "outputs": [],
   "source": [
    "# !pip install pylab\n",
    "# import pylab as pl"
   ]
  },
  {
   "cell_type": "code",
   "execution_count": 24,
   "id": "4b26e5ff",
   "metadata": {
    "ExecuteTime": {
     "end_time": "2023-06-23T02:54:57.249612600Z",
     "start_time": "2023-06-23T02:54:57.144888700Z"
    }
   },
   "outputs": [],
   "source": [
    "df[target_names]=y.values\n",
    "corr = df.corr()\n",
    "mask = np.triu(np.ones_like(corr, dtype=bool))\n",
    "# f, ax = pl.subplots(figsize=(11, 9))\n",
    "# cmap = sns.diverging_palette(230, 20, as_cmap=True)\n",
    "# cmap =  cmap=\"YlGnBu\"\n",
    "# sns.heatmap(corr, mask=mask, cmap=cmap, #vmax=.3, center=0, \n",
    "#            annot=True, #fmt=\"d\")\n",
    "#            square=True, linewidths=.5, #cbar_kws={\"shrink\": .5},\n",
    "#        )\n",
    "# pl.show()"
   ]
  },
  {
   "cell_type": "code",
   "execution_count": 27,
   "id": "2046fc18",
   "metadata": {
    "ExecuteTime": {
     "end_time": "2023-06-23T02:54:57.250612800Z",
     "start_time": "2023-06-23T02:54:57.161700400Z"
    }
   },
   "outputs": [],
   "source": [
    "def df_to_X_y(df, window_size):\n",
    "  df_as_np = df.to_numpy()\n",
    "  X = []\n",
    "  y = []\n",
    "  for i in range(len(df_as_np) - window_size):\n",
    "    row = [[a] for a in df_as_np[i:i + window_size]]\n",
    "    X.append(row)\n",
    "    label = df_as_np[i + window_size]\n",
    "    y.append(label)\n",
    "  return np.array(X), np.array(y)"
   ]
  },
  {
   "cell_type": "code",
   "execution_count": 28,
   "id": "aa194eaa",
   "metadata": {
    "ExecuteTime": {
     "end_time": "2023-06-23T02:54:57.250612800Z",
     "start_time": "2023-06-23T02:54:57.163706Z"
    }
   },
   "outputs": [
    {
     "data": {
      "text/plain": "(array([[[[ 0.00000000e+00,  8.86500000e+02,  8.86533333e+02, ...,\n           -4.40112490e+01,  1.19882000e+03,  2.19589739e+00]],\n \n         [[ 0.00000000e+00,  8.87037500e+02,  8.87250000e+02, ...,\n           -4.40112490e+01,  1.19882000e+03,  2.45444955e+01]],\n \n         [[ 0.00000000e+00,  8.86783333e+02,  8.86983333e+02, ...,\n           -4.40112490e+01,  1.19882000e+03,  2.44861184e+01]]],\n \n \n        [[[ 0.00000000e+00,  8.87037500e+02,  8.87250000e+02, ...,\n           -4.40112490e+01,  1.19882000e+03,  2.45444955e+01]],\n \n         [[ 0.00000000e+00,  8.86783333e+02,  8.86983333e+02, ...,\n           -4.40112490e+01,  1.19882000e+03,  2.44861184e+01]],\n \n         [[ 0.00000000e+00,  8.86341667e+02,  8.86516667e+02, ...,\n           -4.40112490e+01,  1.19882000e+03,  2.44309008e+01]]],\n \n \n        [[[ 0.00000000e+00,  8.86783333e+02,  8.86983333e+02, ...,\n           -4.40112490e+01,  1.19882000e+03,  2.44861184e+01]],\n \n         [[ 0.00000000e+00,  8.86341667e+02,  8.86516667e+02, ...,\n           -4.40112490e+01,  1.19882000e+03,  2.44309008e+01]],\n \n         [[ 0.00000000e+00,  8.85012500e+02,  8.85220833e+02, ...,\n           -4.40112490e+01,  1.19882000e+03,  2.43788721e+01]]],\n \n \n        ...,\n \n \n        [[[ 0.00000000e+00,  8.80625000e+02,  8.80841667e+02, ...,\n           -4.40112490e+01,  1.19882000e+03,  4.26900930e+01]],\n \n         [[ 0.00000000e+00,  8.80675000e+02,  8.80900000e+02, ...,\n           -4.40112490e+01,  1.19882000e+03,  4.27032443e+01]],\n \n         [[ 9.83333333e-01,  8.81758333e+02,  8.82012500e+02, ...,\n           -4.40112490e+01,  1.19882000e+03,  4.27128195e+01]]],\n \n \n        [[[ 0.00000000e+00,  8.80675000e+02,  8.80900000e+02, ...,\n           -4.40112490e+01,  1.19882000e+03,  4.27032443e+01]],\n \n         [[ 9.83333333e-01,  8.81758333e+02,  8.82012500e+02, ...,\n           -4.40112490e+01,  1.19882000e+03,  4.27128195e+01]],\n \n         [[ 1.50000000e-01,  8.83337500e+02,  8.83616667e+02, ...,\n           -4.40112490e+01,  1.19882000e+03,  4.27188083e+01]]],\n \n \n        [[[ 9.83333333e-01,  8.81758333e+02,  8.82012500e+02, ...,\n           -4.40112490e+01,  1.19882000e+03,  4.27128195e+01]],\n \n         [[ 1.50000000e-01,  8.83337500e+02,  8.83616667e+02, ...,\n           -4.40112490e+01,  1.19882000e+03,  4.27188083e+01]],\n \n         [[ 1.00833333e+00,  8.81166667e+02,  8.81458333e+02, ...,\n           -4.40112490e+01,  1.19882000e+03,  4.27212019e+01]]]]),\n array([[ 0.00000000e+00,  8.86341667e+02,  8.86516667e+02, ...,\n         -4.40112490e+01,  1.19882000e+03,  2.44309008e+01],\n        [ 0.00000000e+00,  8.85012500e+02,  8.85220833e+02, ...,\n         -4.40112490e+01,  1.19882000e+03,  2.43788721e+01],\n        [ 0.00000000e+00,  8.85266667e+02,  8.85433333e+02, ...,\n         -4.40112490e+01,  1.19882000e+03,  2.43300598e+01],\n        ...,\n        [ 1.50000000e-01,  8.83337500e+02,  8.83616667e+02, ...,\n         -4.40112490e+01,  1.19882000e+03,  4.27188083e+01],\n        [ 1.00833333e+00,  8.81166667e+02,  8.81458333e+02, ...,\n         -4.40112490e+01,  1.19882000e+03,  4.27212019e+01],\n        [ 1.02500000e+00,  8.79704167e+02,  8.79970833e+02, ...,\n         -4.40112490e+01,  1.19882000e+03,  4.27199935e+01]]))"
     },
     "execution_count": 28,
     "metadata": {},
     "output_type": "execute_result"
    }
   ],
   "source": [
    "WINDOW_SIZE = 3\n",
    "X1, y1 = df_to_X_y(data, WINDOW_SIZE)\n",
    "X1.shape, y1.shape\n",
    "X1, y1"
   ]
  },
  {
   "cell_type": "code",
   "execution_count": 29,
   "outputs": [],
   "source": [
    "from sklearn.model_selection import train_test_split\n",
    "\n",
    "X_train, X_test, Y_train, Y_test = train_test_split(X1, y1, test_size=0.2, shuffle=True)\n",
    "X_train, X_val, Y_train, Y_val = train_test_split(X_train, Y_train, test_size=0.2, shuffle=True)\n",
    "\n"
   ],
   "metadata": {
    "collapsed": false,
    "ExecuteTime": {
     "end_time": "2023-06-23T02:54:57.427488900Z",
     "start_time": "2023-06-23T02:54:57.188611200Z"
    }
   }
  },
  {
   "cell_type": "code",
   "execution_count": 30,
   "id": "2eda289b",
   "metadata": {
    "ExecuteTime": {
     "end_time": "2023-06-23T02:54:57.624121600Z",
     "start_time": "2023-06-23T02:54:57.429239300Z"
    }
   },
   "outputs": [
    {
     "name": "stdout",
     "output_type": "stream",
     "text": [
      "Model: \"sequential\"\n",
      "_________________________________________________________________\n",
      " Layer (type)                Output Shape              Param #   \n",
      "=================================================================\n",
      " lstm (LSTM)                 (None, 64)                16896     \n",
      "                                                                 \n",
      " dense (Dense)               (None, 8)                 520       \n",
      "                                                                 \n",
      " dense_1 (Dense)             (None, 1)                 9         \n",
      "                                                                 \n",
      "=================================================================\n",
      "Total params: 17,425\n",
      "Trainable params: 17,425\n",
      "Non-trainable params: 0\n",
      "_________________________________________________________________\n"
     ]
    }
   ],
   "source": [
    "from tensorflow.keras.models import Sequential\n",
    "from tensorflow.keras.layers import *\n",
    "from tensorflow.keras.callbacks import ModelCheckpoint\n",
    "from tensorflow.keras.losses import MeanSquaredError\n",
    "from tensorflow.keras.metrics import RootMeanSquaredError\n",
    "from tensorflow.keras.optimizers import Adam\n",
    "\n",
    "model1 = Sequential()\n",
    "model1.add(InputLayer((5, 1)))\n",
    "model1.add(LSTM(64))\n",
    "model1.add(Dense(8, 'relu'))\n",
    "model1.add(Dense(1, 'linear'))\n",
    "\n",
    "model1.summary()"
   ]
  },
  {
   "cell_type": "code",
   "execution_count": 31,
   "outputs": [],
   "source": [
    "cp1 = ModelCheckpoint('model1/', save_best_only=True)\n",
    "model1.compile(loss=MeanSquaredError(), optimizer=Adam(learning_rate=0.0001), metrics=[RootMeanSquaredError()])"
   ],
   "metadata": {
    "collapsed": false,
    "ExecuteTime": {
     "end_time": "2023-06-23T02:54:57.634734600Z",
     "start_time": "2023-06-23T02:54:57.624121600Z"
    }
   }
  },
  {
   "cell_type": "code",
   "execution_count": 32,
   "outputs": [
    {
     "ename": "NameError",
     "evalue": "name 'train_X' is not defined",
     "output_type": "error",
     "traceback": [
      "\u001B[1;31m---------------------------------------------------------------------------\u001B[0m",
      "\u001B[1;31mNameError\u001B[0m                                 Traceback (most recent call last)",
      "Cell \u001B[1;32mIn[32], line 1\u001B[0m\n\u001B[1;32m----> 1\u001B[0m history1 \u001B[38;5;241m=\u001B[39m model1\u001B[38;5;241m.\u001B[39mfit(\u001B[43mtrain_X\u001B[49m, train_y, validation_data\u001B[38;5;241m=\u001B[39m(X_val, Y_val), epochs\u001B[38;5;241m=\u001B[39m\u001B[38;5;241m10\u001B[39m, callbacks\u001B[38;5;241m=\u001B[39m[cp1])\n",
      "\u001B[1;31mNameError\u001B[0m: name 'train_X' is not defined"
     ]
    }
   ],
   "source": [
    "history1 = model1.fit(train_X, train_y, validation_data=(X_val, Y_val), epochs=10, callbacks=[cp1])"
   ],
   "metadata": {
    "collapsed": false,
    "ExecuteTime": {
     "end_time": "2023-06-23T02:54:58.044978500Z",
     "start_time": "2023-06-23T02:54:57.636658700Z"
    }
   }
  }
 ],
 "metadata": {
  "kernelspec": {
   "display_name": "Python 3 (ipykernel)",
   "language": "python",
   "name": "python3"
  },
  "language_info": {
   "codemirror_mode": {
    "name": "ipython",
    "version": 3
   },
   "file_extension": ".py",
   "mimetype": "text/x-python",
   "name": "python",
   "nbconvert_exporter": "python",
   "pygments_lexer": "ipython3",
   "version": "3.11.4"
  }
 },
 "nbformat": 4,
 "nbformat_minor": 5
}
